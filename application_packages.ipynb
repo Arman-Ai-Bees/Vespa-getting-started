{
  "cells": [
    {
      "cell_type": "markdown",
      "id": "e05d0811",
      "metadata": {
        "id": "e05d0811"
      },
      "source": [
        "\n",
        "# Application packages\n",
        "\n",
        "Vespa is configured using an [application package](https://docs.vespa.ai/en/application-packages.html).\n",
        "Pyvespa provides an API to generate a deployable application package.\n",
        "An application package has at a minimum a [schema](https://docs.vespa.ai/en/schemas.html)\n",
        "and [services.xml](https://docs.vespa.ai/en/reference/services.html).\n",
        "\n",
        "> **_NOTE: pyvespa generally does not support all indexing options in Vespa - it is made for easy experimentation._**\n",
        "  **_To configure setting an unsupported indexing option (or any other unsupported option),_**\n",
        "  **_export the application package like above, modify the schema or other files_**\n",
        "  **_and deploy the application package from the directory, or as a zipped file._**\n",
        "  **_Find more details at the end of this notebook._**"
      ]
    },
    {
      "cell_type": "code",
      "execution_count": 6,
      "id": "e51d0086",
      "metadata": {
        "colab": {
          "base_uri": "https://localhost:8080/"
        },
        "id": "e51d0086",
        "outputId": "7924118c-bd5d-410c-a0a0-ce961d84b13f"
      },
      "outputs": [
        {
          "name": "stdout",
          "output_type": "stream",
          "text": [
            "Requirement already satisfied: pyvespa in c:\\users\\arman\\.venv\\lib\\site-packages (0.51.0)\n",
            "Requirement already satisfied: requests in c:\\users\\arman\\.venv\\lib\\site-packages (from pyvespa) (2.31.0)\n",
            "Requirement already satisfied: requests_toolbelt in c:\\users\\arman\\.venv\\lib\\site-packages (from pyvespa) (1.0.0)\n",
            "Requirement already satisfied: docker in c:\\users\\arman\\.venv\\lib\\site-packages (from pyvespa) (7.1.0)\n",
            "Requirement already satisfied: jinja2 in c:\\users\\arman\\.venv\\lib\\site-packages (from pyvespa) (3.1.3)\n",
            "Requirement already satisfied: cryptography in c:\\users\\arman\\.venv\\lib\\site-packages (from pyvespa) (42.0.8)\n",
            "Requirement already satisfied: aiohttp in c:\\users\\arman\\.venv\\lib\\site-packages (from pyvespa) (3.9.0b0)\n",
            "Requirement already satisfied: httpx[http2] in c:\\users\\arman\\.venv\\lib\\site-packages (from pyvespa) (0.28.1)\n",
            "Requirement already satisfied: tenacity>=8.4.1 in c:\\users\\arman\\.venv\\lib\\site-packages (from pyvespa) (9.0.0)\n",
            "Requirement already satisfied: typing_extensions in c:\\users\\arman\\.venv\\lib\\site-packages (from pyvespa) (4.9.0)\n",
            "Requirement already satisfied: python-dateutil in c:\\users\\arman\\.venv\\lib\\site-packages (from pyvespa) (2.9.0.post0)\n",
            "Requirement already satisfied: fastcore>=1.7.8 in c:\\users\\arman\\.venv\\lib\\site-packages (from pyvespa) (1.7.25)\n",
            "Requirement already satisfied: lxml in c:\\users\\arman\\.venv\\lib\\site-packages (from pyvespa) (5.2.2)\n",
            "Requirement already satisfied: packaging in c:\\users\\arman\\.venv\\lib\\site-packages (from fastcore>=1.7.8->pyvespa) (23.2)\n",
            "Requirement already satisfied: attrs>=17.3.0 in c:\\users\\arman\\.venv\\lib\\site-packages (from aiohttp->pyvespa) (23.2.0)\n",
            "Requirement already satisfied: multidict<7.0,>=4.5 in c:\\users\\arman\\.venv\\lib\\site-packages (from aiohttp->pyvespa) (6.0.5)\n",
            "Requirement already satisfied: yarl<2.0,>=1.0 in c:\\users\\arman\\.venv\\lib\\site-packages (from aiohttp->pyvespa) (1.9.4)\n",
            "Requirement already satisfied: frozenlist>=1.1.1 in c:\\users\\arman\\.venv\\lib\\site-packages (from aiohttp->pyvespa) (1.4.1)\n",
            "Requirement already satisfied: aiosignal>=1.1.2 in c:\\users\\arman\\.venv\\lib\\site-packages (from aiohttp->pyvespa) (1.3.1)\n",
            "Requirement already satisfied: cffi>=1.12 in c:\\users\\arman\\.venv\\lib\\site-packages (from cryptography->pyvespa) (1.16.0)\n",
            "Requirement already satisfied: pywin32>=304 in c:\\users\\arman\\.venv\\lib\\site-packages (from docker->pyvespa) (306)\n",
            "Requirement already satisfied: urllib3>=1.26.0 in c:\\users\\arman\\.venv\\lib\\site-packages (from docker->pyvespa) (2.2.2)\n",
            "Requirement already satisfied: charset-normalizer<4,>=2 in c:\\users\\arman\\.venv\\lib\\site-packages (from requests->pyvespa) (3.3.2)\n",
            "Requirement already satisfied: idna<4,>=2.5 in c:\\users\\arman\\.venv\\lib\\site-packages (from requests->pyvespa) (3.7)\n",
            "Requirement already satisfied: certifi>=2017.4.17 in c:\\users\\arman\\.venv\\lib\\site-packages (from requests->pyvespa) (2024.6.2)\n",
            "Requirement already satisfied: anyio in c:\\users\\arman\\.venv\\lib\\site-packages (from httpx[http2]->pyvespa) (4.4.0)\n",
            "Requirement already satisfied: httpcore==1.* in c:\\users\\arman\\.venv\\lib\\site-packages (from httpx[http2]->pyvespa) (1.0.5)\n",
            "Requirement already satisfied: h2<5,>=3 in c:\\users\\arman\\.venv\\lib\\site-packages (from httpx[http2]->pyvespa) (4.1.0)\n",
            "Requirement already satisfied: h11<0.15,>=0.13 in c:\\users\\arman\\.venv\\lib\\site-packages (from httpcore==1.*->httpx[http2]->pyvespa) (0.14.0)\n",
            "Requirement already satisfied: MarkupSafe>=2.0 in c:\\users\\arman\\.venv\\lib\\site-packages (from jinja2->pyvespa) (2.1.5)\n",
            "Requirement already satisfied: six>=1.5 in c:\\users\\arman\\.venv\\lib\\site-packages (from python-dateutil->pyvespa) (1.16.0)\n",
            "Requirement already satisfied: pycparser in c:\\users\\arman\\.venv\\lib\\site-packages (from cffi>=1.12->cryptography->pyvespa) (2.22)\n",
            "Requirement already satisfied: hyperframe<7,>=6.0 in c:\\users\\arman\\.venv\\lib\\site-packages (from h2<5,>=3->httpx[http2]->pyvespa) (6.0.1)\n",
            "Requirement already satisfied: hpack<5,>=4.0 in c:\\users\\arman\\.venv\\lib\\site-packages (from h2<5,>=3->httpx[http2]->pyvespa) (4.0.0)\n",
            "Requirement already satisfied: sniffio>=1.1 in c:\\users\\arman\\.venv\\lib\\site-packages (from anyio->httpx[http2]->pyvespa) (1.3.1)\n"
          ]
        },
        {
          "name": "stderr",
          "output_type": "stream",
          "text": [
            "\n",
            "[notice] A new release of pip is available: 24.0 -> 24.3.1\n",
            "[notice] To update, run: python.exe -m pip install --upgrade pip\n"
          ]
        }
      ],
      "source": [
        "!pip3 install pyvespa"
      ]
    },
    {
      "cell_type": "markdown",
      "id": "b593d6e2",
      "metadata": {
        "id": "b593d6e2"
      },
      "source": [
        "By exporting to disk, one can see the generated files:"
      ]
    },
    {
      "cell_type": "code",
      "execution_count": 16,
      "id": "dTtThzjEB7yd",
      "metadata": {
        "id": "dTtThzjEB7yd"
      },
      "outputs": [],
      "source": [
        "!rm -rf  /content/sample_data"
      ]
    },
    {
      "cell_type": "code",
      "execution_count": 1,
      "id": "956abe16",
      "metadata": {
        "colab": {
          "base_uri": "https://localhost:8080/"
        },
        "id": "956abe16",
        "outputId": "266f2336-0c03-40ee-cb03-565ef0b5c6ac"
      },
      "outputs": [
        {
          "name": "stdout",
          "output_type": "stream",
          "text": [
            "application_packages.ipynb\n",
            "services.xml\n",
            "schemas\\myschema.sd\n"
          ]
        }
      ],
      "source": [
        "import os\n",
        "import tempfile\n",
        "from pathlib import Path\n",
        "from vespa.package import ApplicationPackage\n",
        "\n",
        "app_name = \"myschema\"\n",
        "app_package = ApplicationPackage(name=app_name, create_query_profile_by_default=False)\n",
        "\n",
        "temp_dir = '.'\n",
        "app_package.to_files(temp_dir)\n",
        "\n",
        "for p in Path(temp_dir).rglob(\"*\"):\n",
        "    if p.is_file():\n",
        "        print(p)"
      ]
    },
    {
      "cell_type": "markdown",
      "id": "7b01cd09",
      "metadata": {
        "id": "7b01cd09"
      },
      "source": [
        "## Schema\n",
        "\n",
        "A schema is created with the same name as the application package:"
      ]
    },
    {
      "cell_type": "code",
      "execution_count": 2,
      "id": "923edec8",
      "metadata": {
        "colab": {
          "base_uri": "https://localhost:8080/"
        },
        "id": "923edec8",
        "outputId": "3a42ea68-2652-414b-d417-6dff288637ff"
      },
      "outputs": [],
      "source": [
        "os.environ[\"TMP_APP_DIR\"] = temp_dir\n",
        "os.environ[\"APP_NAME\"] = \"schemas/myschema\"\n",
        "\n"
      ]
    },
    {
      "cell_type": "markdown",
      "id": "5a1cbaf2",
      "metadata": {
        "id": "5a1cbaf2"
      },
      "source": [
        "Configure the schema with [fields](https://docs.vespa.ai/en/schemas.html#field),\n",
        "[fieldsets](https://docs.vespa.ai/en/schemas.html#fieldset)\n",
        "and a [ranking function](https://docs.vespa.ai/en/ranking.html):"
      ]
    },
    {
      "cell_type": "code",
      "execution_count": 3,
      "id": "c83c1945",
      "metadata": {
        "id": "c83c1945"
      },
      "outputs": [],
      "source": [
        "from vespa.package import Field, FieldSet, RankProfile\n",
        "\n",
        "app_package.schema.add_fields(\n",
        "    Field(name=\"id\", type=\"string\", indexing=[\"attribute\", \"summary\"]),\n",
        "    Field(\n",
        "        name=\"title\", type=\"string\", indexing=[\"index\", \"summary\"], index=\"enable-bm25\"\n",
        "    ),\n",
        "    Field(\n",
        "        name=\"body\", type=\"string\", indexing=[\"index\", \"summary\"], index=\"enable-bm25\"\n",
        "    ),\n",
        ")\n",
        "\n",
        "app_package.schema.add_field_set(FieldSet(name=\"default\", fields=[\"title\", \"body\"]))\n",
        "\n",
        "app_package.schema.add_rank_profile(\n",
        "    RankProfile(name=\"default\", first_phase=\"bm25(title) + bm25(body)\")\n",
        ")"
      ]
    },
    {
      "cell_type": "markdown",
      "id": "f721bdfd",
      "metadata": {
        "id": "f721bdfd"
      },
      "source": [
        "Export the application package again, show schema:"
      ]
    },
    {
      "cell_type": "code",
      "execution_count": 4,
      "id": "4fcd3de2",
      "metadata": {
        "colab": {
          "base_uri": "https://localhost:8080/"
        },
        "id": "4fcd3de2",
        "outputId": "83e63040-8a95-4484-fed6-98eba2b2c25d"
      },
      "outputs": [],
      "source": [
        "app_package.to_files(temp_dir)\n",
        "\n"
      ]
    },
    {
      "cell_type": "markdown",
      "id": "a51353a4",
      "metadata": {
        "id": "a51353a4"
      },
      "source": [
        "## Services\n",
        "\n",
        "`services.xml` configures container and content clusters -\n",
        "see the [Vespa Overview](https://docs.vespa.ai/en/overview.html).\n",
        "This is a file you will normally not change or need to know much about:"
      ]
    },
    {
      "cell_type": "code",
      "execution_count": 30,
      "id": "4abae84e",
      "metadata": {
        "colab": {
          "base_uri": "https://localhost:8080/"
        },
        "id": "4abae84e",
        "outputId": "7905dccb-a160-4ba5-f78f-1af78a6f99a3"
      },
      "outputs": [
        {
          "name": "stdout",
          "output_type": "stream",
          "text": [
            "<?xml version=\"1.0\" encoding=\"UTF-8\"?>\n",
            "<services version=\"1.0\">\n",
            "    <container id=\"myschema_container\" version=\"1.0\">\n",
            "        <search></search>\n",
            "        <document-api></document-api>\n",
            "        <document-processing></document-processing>\n",
            "    </container>\n",
            "    <content id=\"myschema_content\" version=\"1.0\">\n",
            "        <redundancy>1</redundancy>\n",
            "        <documents>\n",
            "            <document type=\"myschema\" mode=\"index\"></document>\n",
            "        </documents>\n",
            "        <nodes>\n",
            "            <node distribution-key=\"0\" hostalias=\"node1\"></node>\n",
            "        </nodes>\n",
            "    </content>\n",
            "</services>"
          ]
        }
      ],
      "source": [
        "!cat '/content/services.xml'"
      ]
    },
    {
      "cell_type": "markdown",
      "id": "d6477c44",
      "metadata": {
        "id": "d6477c44"
      },
      "source": [
        "Observe:\n",
        "\n",
        "* A _content cluster_ (this is where the index is stored) called `myschema_content` is created.\n",
        "  This is information not normally needed, unless using\n",
        "  [delete_all_docs](https://pyvespa.readthedocs.io/en/latest/reference-api.html#vespa.application.Vespa.delete_all_docs)\n",
        "  to quickly remove all documents from a schema"
      ]
    },
    {
      "cell_type": "markdown",
      "id": "cc878191",
      "metadata": {
        "id": "cc878191"
      },
      "source": [
        "## Deploy\n",
        "\n",
        "After completing the code for the fields and ranking, deploy the application into a Docker container -\n",
        "the container is started by pyvespa:"
      ]
    },
    {
      "cell_type": "code",
      "execution_count": 12,
      "id": "419534c6",
      "metadata": {
        "colab": {
          "base_uri": "https://localhost:8080/",
          "height": 1000
        },
        "id": "419534c6",
        "outputId": "d33d2698-07e5-45f2-c82f-c4dd85d98192"
      },
      "outputs": [
        {
          "name": "stdout",
          "output_type": "stream",
          "text": [
            "Waiting for configuration server, 0/60 seconds...\n",
            "Waiting for configuration server, 5/60 seconds...\n",
            "Waiting for configuration server, 10/60 seconds...\n",
            "Waiting for configuration server, 15/60 seconds...\n",
            "Waiting for application to come up, 0/300 seconds.\n",
            "Waiting for application to come up, 5/300 seconds.\n",
            "Waiting for application to come up, 10/300 seconds.\n",
            "Waiting for application to come up, 15/300 seconds.\n",
            "Waiting for application to come up, 20/300 seconds.\n",
            "Waiting for application to come up, 25/300 seconds.\n",
            "Application is up!\n",
            "Finished deployment.\n"
          ]
        }
      ],
      "source": [
        "from vespa.deployment import VespaDocker\n",
        "\n",
        "vespa_container = VespaDocker(port=8080) \n",
        "vespa_connection = vespa_container.deploy(application_package=app_package)\n",
        "# 7:34  6:00"
      ]
    },
    {
      "cell_type": "markdown",
      "id": "7e5b2808",
      "metadata": {},
      "source": [
        "## Deploy from modified files\n",
        "\n",
        "To add configuration the the schema, which is not supported by the pyvespa code,\n",
        "export the files, modify, then deploy by using `deploy_from_disk`.\n",
        "This example adds custom configuration to the `services.xml` file above and deploys it:"
      ]
    },
    {
      "cell_type": "code",
      "execution_count": null,
      "id": "3d89fad4",
      "metadata": {},
      "outputs": [],
      "source": []
    },
    {
      "cell_type": "code",
      "execution_count": null,
      "id": "3cbf46ce",
      "metadata": {},
      "outputs": [],
      "source": [
        "import os\n",
        "\n",
        "\n",
        "# Set your environment variables or fallback to defaults\n",
        "TMP_APP_DIR = temp_dir\n",
        "APP_NAME = \"schemas/myschema\"\n",
        "\n",
        "# Ensure the directory exists\n",
        "os.makedirs(TMP_APP_DIR, exist_ok=True)\n",
        "\n",
        "# Define the XML content\n",
        "xml_content = f\"\"\"<?xml version=\"1.0\" encoding=\"UTF-8\"?>\n",
        "<services version=\"1.0\">\n",
        "    <container id=\"{APP_NAME}_container\" version=\"1.0\">\n",
        "        <search></search>\n",
        "        <document-api></document-api>\n",
        "    </container>\n",
        "    <content id=\"{APP_NAME}_content\" version=\"1.0\">\n",
        "        <redundancy reply-after=\"1\">1</redundancy>\n",
        "        <documents>\n",
        "            <document type=\"{APP_NAME}\" mode=\"index\"></document>\n",
        "        </documents>\n",
        "        <nodes>\n",
        "            <node distribution-key=\"0\" hostalias=\"node1\"></node>\n",
        "        </nodes>\n",
        "        <tuning>\n",
        "            <resource-limits>\n",
        "                <disk>0.90</disk>\n",
        "            </resource-limits>\n",
        "        </tuning>\n",
        "    </content>\n",
        "</services>\n",
        "\"\"\"\n",
        "\n",
        "# Write the file\n",
        "with open(os.path.join(TMP_APP_DIR, \"services.xml\"), \"w\", encoding=\"utf-8\") as f:\n",
        "    f.write(xml_content)\n",
        "\n",
        "print(\"services.xml created successfully.\")\n",
        "\n",
        "# Ensure the directory exists\n",
        "os.makedirs(TMP_APP_DIR, exist_ok=True)\n",
        "\n",
        "# Define the XML content\n",
        "xml_content = f\"\"\"<?xml version=\"1.0\" encoding=\"UTF-8\"?>\n",
        "<services version=\"1.0\">\n",
        "    <container id=\"{APP_NAME}_container\" version=\"1.0\">\n",
        "        <search></search>\n",
        "        <document-api></document-api>\n",
        "    </container>\n",
        "    <content id=\"{APP_NAME}_content\" version=\"1.0\">\n",
        "        <redundancy reply-after=\"1\">1</redundancy>\n",
        "        <documents>\n",
        "            <document type=\"{APP_NAME}\" mode=\"index\"></document>\n",
        "        </documents>\n",
        "        <nodes>\n",
        "            <node distribution-key=\"0\" hostalias=\"node1\"></node>\n",
        "        </nodes>\n",
        "        <tuning>\n",
        "            <resource-limits>\n",
        "                <disk>0.90</disk>\n",
        "            </resource-limits>\n",
        "        </tuning>\n",
        "    </content>\n",
        "</services>\n",
        "\"\"\"\n",
        "\n",
        "# Write the file\n",
        "with open(os.path.join(TMP_APP_DIR, \"services.xml\"), \"w\", encoding=\"utf-8\") as f:\n",
        "    f.write(xml_content)\n",
        "\n",
        "print(\"services.xml created successfully.\")\n"
      ]
    },
    {
      "cell_type": "code",
      "execution_count": null,
      "id": "7995befa",
      "metadata": {
        "id": "7995befa"
      },
      "outputs": [],
      "source": [
        "%%sh\n",
        "cat << EOF > $TMP_APP_DIR/services.xml\n",
        "<?xml version=\"1.0\" encoding=\"UTF-8\"?>\n",
        "<services version=\"1.0\">\n",
        "    <container id=\"${APP_NAME}_container\" version=\"1.0\">\n",
        "        <search></search>\n",
        "        <document-api></document-api>\n",
        "    </container>\n",
        "    <content id=\"${APP_NAME}_content\" version=\"1.0\">\n",
        "        <redundancy reply-after=\"1\">1</redundancy>\n",
        "        <documents>\n",
        "            <document type=\"${APP_NAME}\" mode=\"index\"></document>\n",
        "        </documents>\n",
        "        <nodes>\n",
        "            <node distribution-key=\"0\" hostalias=\"node1\"></node>\n",
        "        </nodes>\n",
        "        <tuning>\n",
        "            <resource-limits>\n",
        "                <disk>0.90</disk>\n",
        "            </resource-limits>\n",
        "        </tuning>\n",
        "    </content>\n",
        "</services>\n",
        "EOF"
      ]
    },
    {
      "cell_type": "markdown",
      "id": "e8e4a654",
      "metadata": {
        "id": "e8e4a654"
      },
      "source": [
        "The [resource-limits](https://docs.vespa.ai/en/reference/services-content.html#resource-limits) in `tuning/resource-limits/disk` configuration setting allows a higher disk usage.\n",
        "\n",
        "Deploy using the exported files:"
      ]
    },
    {
      "cell_type": "code",
      "execution_count": null,
      "id": "9794e561",
      "metadata": {
        "id": "9794e561",
        "outputId": "b4861162-b458-4d38-d978-65a1972925d3"
      },
      "outputs": [
        {
          "name": "stdout",
          "output_type": "stream",
          "text": [
            "Waiting for configuration server, 0/300 seconds...\n",
            "Waiting for configuration server, 5/300 seconds...\n",
            "Waiting for application status, 0/300 seconds...\n",
            "Waiting for application status, 5/300 seconds...\n",
            "Finished deployment.\n"
          ]
        }
      ],
      "source": [
        "vespa_connection = vespa_container.deploy_from_disk(\n",
        "    application_name=app_name, application_root=temp_dir.name\n",
        ")"
      ]
    },
    {
      "cell_type": "markdown",
      "id": "e9957d96",
      "metadata": {
        "id": "e9957d96"
      },
      "source": [
        "One can also export a deployable zip-file, which can be deployed using the Vespa Cloud Console:"
      ]
    },
    {
      "cell_type": "code",
      "execution_count": null,
      "id": "346f3cce",
      "metadata": {
        "id": "346f3cce",
        "outputId": "6b07191e-4662-4f32-9cb5-4f44e5b85e10"
      },
      "outputs": [
        {
          "name": "stdout",
          "output_type": "stream",
          "text": [
            "/var/folders/9_/z105jyln7jz8h2vwsrjb7kxh0000gp/T/tmp6geo2dpg/zip/application.zip\r\n"
          ]
        }
      ],
      "source": [
        "Path.mkdir(Path(temp_dir.name) / \"zip\", exist_ok=True, parents=True)\n",
        "app_package.to_zipfile(temp_dir.name + \"/zip/application.zip\")\n",
        "\n",
        "! find \"$TMP_APP_DIR/zip\" -type f"
      ]
    },
    {
      "cell_type": "markdown",
      "id": "cfac91f8",
      "metadata": {
        "id": "cfac91f8"
      },
      "source": [
        "### Cleanup\n",
        "\n",
        "Remove the container resources and temporary application package file export:"
      ]
    },
    {
      "cell_type": "code",
      "execution_count": null,
      "id": "84ce16e8",
      "metadata": {
        "id": "84ce16e8"
      },
      "outputs": [],
      "source": [
        "temp_dir.cleanup()\n",
        "vespa_container.container.stop()\n",
        "vespa_container.container.remove()"
      ]
    },
    {
      "cell_type": "markdown",
      "id": "e242ac80",
      "metadata": {
        "id": "e242ac80"
      },
      "source": [
        "## Next step: Deploy, feed and query\n",
        "\n",
        "Once the schema is ready for deployment, decide deployment option and deploy the application package:\n",
        "\n",
        "* [Deploy to local container](https://pyvespa.readthedocs.io/en/latest/getting-started-pyvespa.html)\n",
        "* [Deploy to Vespa Cloud](https://pyvespa.readthedocs.io/en/latest/getting-started-pyvespa-cloud.html)\n",
        "\n",
        "Use the guides on the pyvespa site to feed and query data."
      ]
    }
  ],
  "metadata": {
    "colab": {
      "provenance": []
    },
    "kernelspec": {
      "display_name": "Python 3 (ipykernel)",
      "language": "python",
      "name": "python3"
    },
    "language_info": {
      "codemirror_mode": {
        "name": "ipython",
        "version": 3
      },
      "file_extension": ".py",
      "mimetype": "text/x-python",
      "name": "python",
      "nbconvert_exporter": "python",
      "pygments_lexer": "ipython3",
      "version": "3.12.4"
    }
  },
  "nbformat": 4,
  "nbformat_minor": 5
}
